{
 "cells": [
  {
   "cell_type": "code",
   "execution_count": 94,
   "metadata": {},
   "outputs": [],
   "source": [
    "import scipy.io as scio\n",
    "import pandas as pd\n",
    "import numpy as np\n",
    "import os\n",
    "from pandas import Series,DataFrame\n",
    "from sklearn.linear_model import LogisticRegression\n",
    "from sklearn.ensemble import RandomForestClassifier\n",
    "from sklearn.tree import DecisionTreeClassifier\n",
    "from sklearn.utils import shuffle\n",
    "import random\n",
    "from sklearn.model_selection import train_test_split\n",
    "from sklearn.ensemble import GradientBoostingClassifier\n",
    "from sklearn.model_selection import GridSearchCV\n",
    "from sklearn.externals import joblib\n",
    "from sklearn import  metrics \n",
    "import xgboost as xgb\n",
    "from xgboost.sklearn import XGBClassifier\n",
    "from sklearn.model_selection import cross_val_score\n",
    "\n",
    "from matplotlib import pyplot as plt\n",
    "from sklearn.datasets import load_breast_cancer\n",
    "from sklearn.metrics import confusion_matrix\n",
    "from sklearn.neighbors import KNeighborsClassifier\n",
    "from sklearn.preprocessing import MinMaxScaler\n",
    "from sklearn.model_selection import KFold\n",
    "import seaborn as sns\n",
    "from sklearn.metrics import accuracy_score  \n",
    "from sklearn.decomposition import PCA\n",
    "import warnings\n",
    "warnings.filterwarnings(\"ignore\")\n",
    "\n",
    "import time\n",
    "import cProfile\n",
    "import psutil\n",
    "\n",
    "\n",
    "sns.set()"
   ]
  },
  {
   "cell_type": "code",
   "execution_count": 95,
   "metadata": {},
   "outputs": [],
   "source": [
    "#set lists for final graph comparison\n",
    "model_time = [] #how much time required to train model\n",
    "model_accuracy = [] #test accuracy\n",
    "model_similarity = [] #percentage test_accuracy/train_accuracy\n",
    "names = [] #names of models"
   ]
  },
  {
   "cell_type": "markdown",
   "metadata": {},
   "source": [
    "### Set Path "
   ]
  },
  {
   "cell_type": "code",
   "execution_count": 96,
   "metadata": {},
   "outputs": [],
   "source": [
    "#Fall2019-proj3-sec1--proj3-sec1-grp2\n",
    "pwd = os.path.dirname(os.path.dirname(os.getcwd()))\n",
    "    \n",
    "# set the working directory of output\n",
    "checkpoint_wd = os.path.join(pwd, \"output\", \"checkpoint\")\n",
    "if not os.path.exists(checkpoint_wd):\n",
    "    os.makedirs(checkpoint_wd)"
   ]
  },
  {
   "cell_type": "markdown",
   "metadata": {},
   "source": [
    "## Train "
   ]
  },
  {
   "cell_type": "markdown",
   "metadata": {},
   "source": [
    "### Data Preprocessing "
   ]
  },
  {
   "cell_type": "code",
   "execution_count": 97,
   "metadata": {},
   "outputs": [],
   "source": [
    "scaler = MinMaxScaler(feature_range = (0,1))"
   ]
  },
  {
   "cell_type": "code",
   "execution_count": 98,
   "metadata": {},
   "outputs": [],
   "source": [
    "random.seed(3345)"
   ]
  },
  {
   "cell_type": "code",
   "execution_count": 99,
   "metadata": {},
   "outputs": [],
   "source": [
    "def distance_feature(x): # calcuate distance between points, choose uprigt triangle\n",
    "    #sqrt(dx^2+dy^2)\n",
    "    a = (x[None, :, :] - x[:, None, :])\n",
    "    b = np.linalg.norm(a, axis=2)\n",
    "    return b[np.triu_indices(78, 1)] # feature size (78-1)(78-2) /2 "
   ]
  },
  {
   "cell_type": "code",
   "execution_count": 100,
   "metadata": {},
   "outputs": [],
   "source": [
    "def euc_distance_feature(x): # instead of distance, keep two dimensional distance vector\n",
    "    #(dx,dy)\n",
    "    a = (x[None, :, :] - x[:, None, :])\n",
    "    index = np.triu_indices(78, 1)\n",
    "    b = a[index]\n",
    "    return b.reshape((-1,)) # feature size (78-1)(78-2) /2 * 2"
   ]
  },
  {
   "cell_type": "code",
   "execution_count": 101,
   "metadata": {},
   "outputs": [],
   "source": [
    "df = pd.read_csv(\"../../data/train_set/label.csv\")\n",
    "labels = df[\"emotion_idx\"].tolist()"
   ]
  },
  {
   "cell_type": "code",
   "execution_count": 102,
   "metadata": {},
   "outputs": [],
   "source": [
    "data = list()\n",
    "for i in range(1, 2501):\n",
    "    name = \"../../data/train_set/points/%04d.mat\" % i\n",
    "    dic = scio.loadmat(name)\n",
    "    if \"faceCoordinatesUnwarped\" in dic:\n",
    "        data.append(dic[\"faceCoordinatesUnwarped\"])\n",
    "    else:\n",
    "        data.append(dic[\"faceCoordinates2\"])"
   ]
  },
  {
   "cell_type": "code",
   "execution_count": 103,
   "metadata": {},
   "outputs": [],
   "source": [
    "x_train, x_test, train_y, test_y = train_test_split(data, labels, test_size=0.2)"
   ]
  },
  {
   "cell_type": "markdown",
   "metadata": {},
   "source": [
    "### First we try Euclidian distance as features "
   ]
  },
  {
   "cell_type": "code",
   "execution_count": 104,
   "metadata": {},
   "outputs": [],
   "source": [
    "train_x = [euc_distance_feature(d) for d in x_train] #(dx,dy)\n",
    "test_x = [euc_distance_feature(d) for d in x_test]"
   ]
  },
  {
   "cell_type": "code",
   "execution_count": 105,
   "metadata": {},
   "outputs": [],
   "source": [
    "scaler.fit(train_x)\n",
    "train_x = scaler.transform(train_x)\n",
    "test_x = scaler.transform(test_x)"
   ]
  },
  {
   "cell_type": "markdown",
   "metadata": {},
   "source": [
    "### Base Line Model: KNN"
   ]
  },
  {
   "cell_type": "code",
   "execution_count": 106,
   "metadata": {},
   "outputs": [
    {
     "data": {
      "image/png": "[encoded data removed]",
      "text/plain": [
       "<Figure size 432x288 with 1 Axes>"
      ]
     },
     "metadata": {},
     "output_type": "display_data"
    }
   ],
   "source": [
    "neighbors = np.arange(5, 50, 10) \n",
    "train_accuracy = np.empty(len(neighbors)) \n",
    "test_accuracy = np.empty(len(neighbors)) \n",
    "\n",
    "start = time.time() #start time\n",
    "# Loop over K values \n",
    "for i, k in enumerate(neighbors): \n",
    "    knn = KNeighborsClassifier(n_neighbors=k) \n",
    "    knn.fit(train_x, train_y) \n",
    "      \n",
    "    # Compute traning and test data accuracy \n",
    "    train_accuracy[i] = knn.score(train_x, train_y) \n",
    "    test_accuracy[i] = knn.score(test_x, test_y) \n",
    "\n",
    "#Generate plot \n",
    "plt.plot(neighbors, test_accuracy, label = 'Testing dataset Accuracy') \n",
    "plt.plot(neighbors, train_accuracy, label = 'Training dataset Accuracy') \n",
    "  \n",
    "plt.legend() \n",
    "plt.xlabel('n_neighbors') \n",
    "plt.ylabel('Accuracy') \n",
    "plt.show() "
   ]
  },
  {
   "cell_type": "code",
   "execution_count": 107,
   "metadata": {},
   "outputs": [
    {
     "name": "stdout",
     "output_type": "stream",
     "text": [
      "Training Time: 272.8572437763214 seconds\n"
     ]
    }
   ],
   "source": [
    "knn = KNeighborsClassifier(n_neighbors=15)\n",
    "knn.fit(train_x, train_y) \n",
    "\n",
    "end = time.time() #end time\n",
    "print(\"Training Time:\",\"%s seconds\"%(end - start))\n",
    "\n",
    "time_KN_euc = end - start #time to train model\n",
    "model_time.append(time_KN_euc) #add model info to final comparison graph\n",
    "names.append(\"KNN Euclid baseline\")"
   ]
  },
  {
   "cell_type": "code",
   "execution_count": 108,
   "metadata": {},
   "outputs": [
    {
     "name": "stdout",
     "output_type": "stream",
     "text": [
      "Training dataset Accuracy\n",
      "0.383\n",
      "Testing dataset Accuracy\n",
      "0.282\n"
     ]
    }
   ],
   "source": [
    "print(\"Training dataset Accuracy\")\n",
    "train_accuracy = baseline.score(train_x, train_y) \n",
    "print(train_accuracy)\n",
    "\n",
    "print(\"Testing dataset Accuracy\")\n",
    "test_accuracy = knn.score(test_x, test_y) \n",
    "print(test_accuracy)\n",
    "\n",
    "acc_diff_KN_euclid = 100*test_accuracy/train_accuracy\n",
    "model_accuracy.append(100*test_accuracy)\n",
    "model_similarity.append(acc_diff_KN_euclid)"
   ]
  },
  {
   "cell_type": "markdown",
   "metadata": {},
   "source": [
    "### Second we try the distance as features "
   ]
  },
  {
   "cell_type": "code",
   "execution_count": 114,
   "metadata": {},
   "outputs": [],
   "source": [
    "train_x = [distance_feature(d) for d in x_train] #sqrt(dx^2+dy^2)\n",
    "test_x = [distance_feature(d) for d in x_test]"
   ]
  },
  {
   "cell_type": "code",
   "execution_count": 115,
   "metadata": {},
   "outputs": [],
   "source": [
    "np.save(\"../../output/train_x.npy\",train_x)"
   ]
  },
  {
   "cell_type": "code",
   "execution_count": 116,
   "metadata": {},
   "outputs": [],
   "source": [
    "scaler.fit(train_x)\n",
    "train_x = scaler.transform(train_x)\n",
    "test_x = scaler.transform(test_x)"
   ]
  },
  {
   "cell_type": "markdown",
   "metadata": {},
   "source": [
    "### Base Line Model: KNN"
   ]
  },
  {
   "cell_type": "code",
   "execution_count": 49,
   "metadata": {},
   "outputs": [
    {
     "data": {
      "image/png": "[encoded data removed]",
      "text/plain": [
       "<Figure size 432x288 with 1 Axes>"
      ]
     },
     "metadata": {},
     "output_type": "display_data"
    }
   ],
   "source": [
    "neighbors = np.arange(5, 50, 10) \n",
    "train_accuracy = np.empty(len(neighbors)) \n",
    "test_accuracy = np.empty(len(neighbors)) \n",
    "\n",
    "start = time.time() #start time\n",
    "# Loop over K values \n",
    "for i, k in enumerate(neighbors): \n",
    "    knn = KNeighborsClassifier(n_neighbors=k) \n",
    "    knn.fit(train_x, train_y) \n",
    "      \n",
    "    # Compute traning and test data accuracy \n",
    "    train_accuracy[i] = knn.score(train_x, train_y) \n",
    "    test_accuracy[i] = knn.score(test_x, test_y) \n",
    "\n",
    "#Generate plot \n",
    "plt.plot(neighbors, test_accuracy, label = 'Testing dataset Accuracy') \n",
    "plt.plot(neighbors, train_accuracy, label = 'Training dataset Accuracy') \n",
    "  \n",
    "plt.legend() \n",
    "plt.xlabel('n_neighbors') \n",
    "plt.ylabel('Accuracy') \n",
    "plt.show() "
   ]
  },
  {
   "cell_type": "code",
   "execution_count": 117,
   "metadata": {},
   "outputs": [
    {
     "name": "stdout",
     "output_type": "stream",
     "text": [
      "Training Time: 599.6543228626251 seconds\n"
     ]
    }
   ],
   "source": [
    "baseline = KNeighborsClassifier(n_neighbors=15)\n",
    "baseline.fit(train_x, train_y) \n",
    "\n",
    "end = time.time() #end time\n",
    "print(\"Training Time:\",\"%s seconds\"%(end - start))\n",
    "\n",
    "time_KN = end - start #time to train model\n",
    "model_time.append(time_KN) #add model info to final comparison graph\n",
    "names.append(\"KNN Baseline\")"
   ]
  },
  {
   "cell_type": "code",
   "execution_count": 119,
   "metadata": {},
   "outputs": [
    {
     "name": "stdout",
     "output_type": "stream",
     "text": [
      "Training dataset Accuracy\n",
      "0.418\n",
      "Testing dataset Accuracy\n",
      "0.306\n"
     ]
    }
   ],
   "source": [
    "print(\"Training dataset Accuracy\")\n",
    "train_accuracy = baseline.score(train_x, train_y) \n",
    "print(train_accuracy)\n",
    "\n",
    "print(\"Testing dataset Accuracy\")\n",
    "test_accuracy = baseline.score(test_x, test_y) \n",
    "print(test_accuracy)\n",
    "\n",
    "acc_diff_KN = 100*test_accuracy/train_accuracy\n",
    "model_accuracy.append(100*test_accuracy)\n",
    "model_similarity.append(acc_diff_KN)"
   ]
  },
  {
   "cell_type": "markdown",
   "metadata": {},
   "source": [
    "We see that the distance formula sqrt(dx^2+dy^2) produces a higher accuracy rate than the Euclidian distance formula. Therefore, we choose the distance formula to use in evaluation of future models."
   ]
  },
  {
   "cell_type": "code",
   "execution_count": 52,
   "metadata": {},
   "outputs": [
    {
     "data": {
      "image/png": "[encoded data removed]",
      "text/plain": [
       "<Figure size 432x288 with 1 Axes>"
      ]
     },
     "metadata": {},
     "output_type": "display_data"
    }
   ],
   "source": [
    "#Fitting the PCA algorithm with our Data\n",
    "pca = PCA().fit(train_x)\n",
    "#Plotting the Cumulative Summation of the Explained Variance\n",
    "plt.figure()\n",
    "plt.plot(np.cumsum(pca.explained_variance_ratio_))\n",
    "plt.xlabel('Number of Components')\n",
    "plt.ylabel('Variance (%)') #for each component\n",
    "plt.title('Pulsar Dataset Explained Variance')\n",
    "plt.show()"
   ]
  },
  {
   "cell_type": "code",
   "execution_count": 53,
   "metadata": {},
   "outputs": [],
   "source": [
    "pca = PCA(n_components=80).fit(train_x)\n",
    "train_x_reduce = pca.transform(train_x)"
   ]
  },
  {
   "cell_type": "code",
   "execution_count": 54,
   "metadata": {},
   "outputs": [
    {
     "name": "stdout",
     "output_type": "stream",
     "text": [
      "Training Time: 0.0056650638580322266 seconds\n"
     ]
    }
   ],
   "source": [
    "start = time.time() #start time\n",
    "\n",
    "knn = KNeighborsClassifier(n_neighbors=25)\n",
    "knn.fit(train_x_reduce, train_y) \n",
    "\n",
    "end = time.time() #end time\n",
    "print(\"Training Time:\",\"%s seconds\"%(end - start))\n",
    "\n",
    "time_KN_pca = end - start #time to train model\n",
    "model_time.append(time_KN_pca) #add model info to final comparison graph\n",
    "names.append(\"KNN PCA\")"
   ]
  },
  {
   "cell_type": "code",
   "execution_count": 55,
   "metadata": {},
   "outputs": [
    {
     "name": "stdout",
     "output_type": "stream",
     "text": [
      "Training dataset Accuracy\n",
      "0.41\n",
      "Testing dataset Accuracy\n",
      "0.274\n"
     ]
    }
   ],
   "source": [
    "print(\"Training dataset Accuracy\")\n",
    "train_accuracy = knn.score(train_x_reduce, train_y) \n",
    "print(train_accuracy)\n",
    "knn_preds = knn.predict(pca.transform(test_x))\n",
    "print(\"Testing dataset Accuracy\")\n",
    "test_accuracy = knn.score(pca.transform(test_x), test_y) \n",
    "print(test_accuracy)\n",
    "\n",
    "acc_diff_KN_pca = 100*test_accuracy/train_accuracy\n",
    "model_accuracy.append(100*test_accuracy)\n",
    "model_similarity.append(acc_diff_KN_pca)"
   ]
  },
  {
   "cell_type": "markdown",
   "metadata": {},
   "source": [
    "### GBM"
   ]
  },
  {
   "cell_type": "code",
   "execution_count": 57,
   "metadata": {},
   "outputs": [
    {
     "name": "stdout",
     "output_type": "stream",
     "text": [
      "Training Time: 318.24587893486023 seconds\n"
     ]
    }
   ],
   "source": [
    "start = time.time() #start time\n",
    "\n",
    "gbm = GradientBoostingClassifier(learning_rate=0.01,n_estimators=30,random_state=10).fit(train_x, train_y)\n",
    "end = time.time() #end time\n",
    "print(\"Training Time:\",\"%s seconds\"%(end - start))\n",
    "\n",
    "time_gbm = end - start #time to train model\n",
    "model_time.append(time_gbm) #add model info to final comparison graph\n",
    "names.append(\"GBM\")"
   ]
  },
  {
   "cell_type": "code",
   "execution_count": 58,
   "metadata": {},
   "outputs": [
    {
     "name": "stdout",
     "output_type": "stream",
     "text": [
      "Training dataset Accuracy\n",
      "0.67\n",
      "Testing dataset Accuracy\n",
      "0.312\n"
     ]
    }
   ],
   "source": [
    "print(\"Training dataset Accuracy\")\n",
    "train_accuracy = gbm.score(train_x, train_y) \n",
    "print(train_accuracy)\n",
    "print(\"Testing dataset Accuracy\")\n",
    "gbm_preds = gbm.predict(test_x)\n",
    "test_accuracy = gbm.score(test_x, test_y) \n",
    "print(test_accuracy)\n",
    "\n",
    "acc_diff_gbm = 100*test_accuracy/train_accuracy\n",
    "model_accuracy.append(100*test_accuracy)\n",
    "model_similarity.append(acc_diff_gbm)"
   ]
  },
  {
   "cell_type": "markdown",
   "metadata": {},
   "source": [
    "### Logistic Regression"
   ]
  },
  {
   "cell_type": "code",
   "execution_count": 59,
   "metadata": {},
   "outputs": [
    {
     "name": "stdout",
     "output_type": "stream",
     "text": [
      "Training Time: 395.672611951828 seconds\n"
     ]
    }
   ],
   "source": [
    "start = time.time() #start time\n",
    "param_grid = {'C': [0.001, 0.01, 1, 5, 10, 25] }\n",
    "clf = GridSearchCV(LogisticRegression(penalty='l2'), param_grid)\n",
    "GridSearchCV(cv=None,\n",
    "             estimator=LogisticRegression(C=1.0, intercept_scaling=1,\n",
    "                                          dual=False, fit_intercept=True, penalty='l2', tol=0.0001),\n",
    "             param_grid={'C': [0.001, 0.01, 1, 5, 10, 25]})\n",
    "\n",
    "best_clf = clf.fit(train_x, train_y)\n",
    "\n",
    "end = time.time() #end time\n",
    "print(\"Training Time:\",\"%s seconds\"%(end - start))\n",
    "time_logreg = end - start #time to train model\n",
    "\n",
    "model_time.append(time_logreg) #add model info to final comparison graph\n",
    "names.append(\"Log Regr\")"
   ]
  },
  {
   "cell_type": "code",
   "execution_count": 60,
   "metadata": {},
   "outputs": [
    {
     "name": "stdout",
     "output_type": "stream",
     "text": [
      "Training dataset Accuracy\n",
      "0.774\n",
      "Testing dataset Accuracy\n",
      "0.522\n"
     ]
    }
   ],
   "source": [
    "print(\"Training dataset Accuracy\")\n",
    "train_accuracy = best_clf.score(train_x, train_y)\n",
    "print(train_accuracy)\n",
    "print(\"Testing dataset Accuracy\")\n",
    "lr_preds = best_clf.predict(test_x)\n",
    "test_accuracy = best_clf.score(test_x, test_y)\n",
    "print(test_accuracy)\n",
    "\n",
    "acc_diff_logreg = 100*test_accuracy/train_accuracy\n",
    "model_accuracy.append(100*test_accuracy)\n",
    "model_similarity.append(acc_diff_logreg)"
   ]
  },
  {
   "cell_type": "markdown",
   "metadata": {},
   "source": [
    "### Random Forest"
   ]
  },
  {
   "cell_type": "code",
   "execution_count": 61,
   "metadata": {},
   "outputs": [
    {
     "name": "stdout",
     "output_type": "stream",
     "text": [
      "Fitting 3 folds for each of 32 candidates, totalling 96 fits\n"
     ]
    },
    {
     "name": "stderr",
     "output_type": "stream",
     "text": [
      "[Parallel(n_jobs=-1)]: Using backend LokyBackend with 8 concurrent workers.\n",
      "[Parallel(n_jobs=-1)]: Done  25 tasks      | elapsed:    9.1s\n",
      "[Parallel(n_jobs=-1)]: Done  96 out of  96 | elapsed:   25.0s finished\n"
     ]
    },
    {
     "name": "stdout",
     "output_type": "stream",
     "text": [
      "Training Time: 26.690473079681396 seconds\n"
     ]
    }
   ],
   "source": [
    "start = time.time() #start time\n",
    "\n",
    "# Create the parameter grid based on the results of random search \n",
    "param_grid = {\n",
    "    'max_depth': [10, 20],\n",
    "    'max_features': [2, 3],\n",
    "    'min_samples_leaf': [10, 15],\n",
    "    'min_samples_split': [10, 12],\n",
    "    'n_estimators': [200, 400]\n",
    "}\n",
    "# Create a based model\n",
    "rf = RandomForestClassifier()\n",
    "# Instantiate the grid search model\n",
    "rf = GridSearchCV(estimator = rf, param_grid = param_grid, cv = 3, n_jobs = -1, verbose = 2)\n",
    "best_rf = rf.fit(train_x, train_y)\n",
    "\n",
    "end = time.time() #end time\n",
    "print(\"Training Time:\",\"%s seconds\"%(end - start))\n",
    "\n",
    "time_forest = end - start #time to train model\n",
    "model_time.append(time_forest) #add model info to final comparison graph\n",
    "names.append(\"Random Forest\")"
   ]
  },
  {
   "cell_type": "code",
   "execution_count": 62,
   "metadata": {},
   "outputs": [
    {
     "name": "stdout",
     "output_type": "stream",
     "text": [
      "Training dataset Accuracy\n",
      "0.869\n",
      "Testing dataset Accuracy\n",
      "0.32\n"
     ]
    }
   ],
   "source": [
    "print(\"Training dataset Accuracy\")\n",
    "train_accuracy = best_rf.score(train_x, train_y)\n",
    "print(train_accuracy)\n",
    "print(\"Testing dataset Accuracy\")\n",
    "rf_preds = best_rf.predict(test_x)\n",
    "test_accuracy = best_rf.score(test_x, test_y)\n",
    "print(test_accuracy)\n",
    "\n",
    "acc_diff_forest = 100*test_accuracy/train_accuracy\n",
    "model_accuracy.append(100*test_accuracy)\n",
    "model_similarity.append(acc_diff_forest)"
   ]
  },
  {
   "cell_type": "markdown",
   "metadata": {},
   "source": [
    "### Xgboost"
   ]
  },
  {
   "cell_type": "code",
   "execution_count": 63,
   "metadata": {},
   "outputs": [],
   "source": [
    "dtrain = xgb.DMatrix(train_x, label=train_y)\n",
    "dtest = xgb.DMatrix(test_x, label=test_y)"
   ]
  },
  {
   "cell_type": "raw",
   "metadata": {},
   "source": [
    "parameters = {\n",
    "              'max_depth': [15, 20, 25],\n",
    "              'learning_rate': [0.02, 0.05, 0.1],\n",
    "              'n_estimators': [100, 500, 1000],\n",
    "              'min_child_weight': [0, 2, 5],\n",
    "              'max_delta_step': [0, 0.2, 0.6],\n",
    "              'subsample': [0.6, 0.7, 0.8,],\n",
    "              'colsample_bytree': [0.4, 0.6, 0.8],\n",
    "              'reg_alpha': [0.25, 0.5, 0.75],\n",
    "              'reg_lambda': [0.2, 0.5, 0.8],\n",
    "              'scale_pos_weight': [0.2, 0.5, 0.8]\n",
    "\n",
    "}\n",
    "start = time.time() #start time\n",
    "xlf = xgb.XGBClassifier(max_depth=10,\n",
    "                        learning_rate=0.01,\n",
    "                        n_estimators=2000,\n",
    "                        silent=True,\n",
    "                        objective='binary:logistic',\n",
    "                        nthread=-1,\n",
    "                        gamma=0,\n",
    "                        min_child_weight=1,\n",
    "                        max_delta_step=0,\n",
    "                        subsample=0.85,\n",
    "                        colsample_bytree=0.7,\n",
    "                        colsample_bylevel=1,\n",
    "                        reg_alpha=0,\n",
    "                        reg_lambda=1,\n",
    "                        scale_pos_weight=1,\n",
    "                        seed=1440,\n",
    "                        missing=None)\n",
    "\n",
    "# With gridSearch, we do not need fit function\n",
    "gsearch = GridSearchCV(xlf, param_grid=parameters, scoring='accuracy', cv=3)\n",
    "gsearch.fit(train_x, train_y)\n",
    "end = time.time()\n",
    "print(\"Training Time:\",\"%s seconds\"%(end - start))\n",
    "print(\"Best score: %0.3f\" % gsearch.best_score_)\n",
    "print(\"Best parameters set:\")\n",
    "best_parameters = gsearch.best_estimator_.get_params()\n",
    "for param_name in sorted(parameters.keys()):\n",
    "    print(\"\\t%s: %r\" % (param_name, best_parameters[param_name]))\n",
    "    \n",
    "end = time.time() #end time"
   ]
  },
  {
   "cell_type": "code",
   "execution_count": 64,
   "metadata": {},
   "outputs": [
    {
     "name": "stdout",
     "output_type": "stream",
     "text": [
      "Training Time: 71.20817112922668 seconds\n",
      "Training dataset Accuracy\n",
      "0.8905\n"
     ]
    }
   ],
   "source": [
    "param = {'booster':'gbtree',\n",
    "'objective': 'multi:softmax', \n",
    "'num_class':23,\n",
    "'n_estimators':500,\n",
    "'max_depth':20, \n",
    "'alpha': 3,\n",
    "'gamma': 1,\n",
    "'silent': 1,\n",
    "'subsample': 0.8,\n",
    "'eta': 0.1,\n",
    "'learning_rates': 0.03}\n",
    "num_round= 5\n",
    "\n",
    "start = time.time() #start time\n",
    "bst = xgb.train(param, dtrain, num_round)\n",
    "\n",
    "end = time.time() #end time\n",
    "print(\"Training Time:\",\"%s seconds\"%(end - start))\n",
    "\n",
    "time_xgboost = end - start #time to train model\n",
    "model_time.append(time_xgboost) #add model info to final comparison graph\n",
    "names.append(\"xgboost\")\n",
    "\n",
    "print(\"Training dataset Accuracy\")\n",
    "train_preds = bst.predict(dtrain)\n",
    "train_accuracy = accuracy_score(train_y, train_preds) \n",
    "print(train_accuracy)"
   ]
  },
  {
   "cell_type": "code",
   "execution_count": 65,
   "metadata": {},
   "outputs": [
    {
     "name": "stdout",
     "output_type": "stream",
     "text": [
      "Testing dataset Accuracy\n",
      "0.404\n"
     ]
    }
   ],
   "source": [
    "print(\"Testing dataset Accuracy\")\n",
    "xgb_preds = bst.predict(dtest)\n",
    "test_accuracy = accuracy_score(test_y, xgb_preds) \n",
    "print(test_accuracy)\n",
    "\n",
    "acc_diff_xgboost = 100*test_accuracy/train_accuracy\n",
    "model_accuracy.append(100*test_accuracy)\n",
    "model_similarity.append(acc_diff_xgboost)"
   ]
  },
  {
   "cell_type": "markdown",
   "metadata": {},
   "source": [
    "### Model Ensembling"
   ]
  },
  {
   "cell_type": "markdown",
   "metadata": {},
   "source": [
    "#### Method 1: Average"
   ]
  },
  {
   "cell_type": "code",
   "execution_count": 66,
   "metadata": {},
   "outputs": [
    {
     "name": "stdout",
     "output_type": "stream",
     "text": [
      "Test Accuracy: 16.20%\n"
     ]
    }
   ],
   "source": [
    "preds = (lr_preds+knn_preds+rf_preds+gbm_preds+xgb_preds)/5\n",
    "preds = np.ceil(preds)\n",
    "test_accuracy = accuracy_score(test_y, preds) \n",
    "print (\"Test Accuracy: %.2f%%\" % (test_accuracy * 100.0))"
   ]
  },
  {
   "cell_type": "code",
   "execution_count": 68,
   "metadata": {},
   "outputs": [
    {
     "name": "stdout",
     "output_type": "stream",
     "text": [
      "Test Accuracy: 23.40%\n"
     ]
    }
   ],
   "source": [
    "preds = (lr_preds+gbm_preds+xgb_preds)/3\n",
    "preds = np.ceil(preds)\n",
    "test_accuracy = accuracy_score(test_y, preds) \n",
    "print (\"Test Accuracy: %.2f%%\" % (test_accuracy * 100.0))"
   ]
  },
  {
   "cell_type": "code",
   "execution_count": 69,
   "metadata": {},
   "outputs": [
    {
     "name": "stdout",
     "output_type": "stream",
     "text": [
      "Test Accuracy: 35.20%\n"
     ]
    }
   ],
   "source": [
    "preds = (lr_preds+xgb_preds)/2\n",
    "preds = np.ceil(preds)\n",
    "test_accuracy = accuracy_score(test_y, preds) \n",
    "print (\"Test Accuracy: %.2f%%\" % (test_accuracy * 100.0))"
   ]
  },
  {
   "cell_type": "markdown",
   "metadata": {},
   "source": [
    "#### Method 2: Stacking"
   ]
  },
  {
   "cell_type": "code",
   "execution_count": 153,
   "metadata": {},
   "outputs": [],
   "source": [
    "#Method 2: Stacking\n",
    "from sklearn.model_selection import KFold\n",
    "def stacking(clf, x_train, y_train, x_test, n_folds=8):\n",
    "    train_num, test_num = x_train.shape[0], x_test.shape[0]\n",
    "    second_level_train_set = np.zeros((train_num,))\n",
    "    second_level_test_set = np.zeros((test_num,))\n",
    "    test_nfolds_sets = np.zeros((test_num, n_folds))\n",
    "    kf = KFold(n_splits=n_folds)\n",
    "\n",
    "    for i,(train_index, test_index) in enumerate(kf.split(x_train)):\n",
    "        x_tra, y_tra = x_train[train_index], y_train[train_index]\n",
    "        x_tst, y_tst =  x_train[test_index], y_train[test_index]\n",
    "\n",
    "        clf.fit(x_tra, y_tra)\n",
    "\n",
    "        second_level_train_set[test_index] = clf.predict(x_tst)\n",
    "        test_nfolds_sets[:,i] = clf.predict(x_test)\n",
    "\n",
    "    second_level_test_set[:] = test_nfolds_sets.mean(axis=1)\n",
    "    return second_level_train_set, second_level_test_set"
   ]
  },
  {
   "cell_type": "code",
   "execution_count": 154,
   "metadata": {},
   "outputs": [],
   "source": [
    "train_x = np.array(train_x)\n",
    "train_y = np.array(train_y)\n",
    "test_x = np.array(test_x)\n",
    "test_y = np.array(test_y)"
   ]
  },
  {
   "cell_type": "code",
   "execution_count": 172,
   "metadata": {},
   "outputs": [],
   "source": [
    "gbm_model = GradientBoostingClassifier(learning_rate=0.01,n_estimators=30,random_state=10)\n",
    "lr_model = LogisticRegression(max_iter=300, penalty = \"l2\", solver='lbfgs', multi_class='multinomial', n_jobs=-1)"
   ]
  },
  {
   "cell_type": "code",
   "execution_count": 173,
   "metadata": {},
   "outputs": [],
   "source": [
    "train_sets = []\n",
    "test_sets = []\n",
    "for clf in [gbm_model,lr_model]:\n",
    "    train_set, test_set = stacking(clf, train_x, train_y, test_x)\n",
    "    train_sets.append(train_set)\n",
    "    test_sets.append(test_set)\n",
    "\n",
    "meta_train = np.concatenate([result_set.reshape(-1,1) for result_set in train_sets], axis=1)\n",
    "meta_test = np.concatenate([y_test_set.reshape(-1,1) for y_test_set in test_sets], axis=1)"
   ]
  },
  {
   "cell_type": "code",
   "execution_count": 174,
   "metadata": {},
   "outputs": [
    {
     "name": "stdout",
     "output_type": "stream",
     "text": [
      "0.379\n"
     ]
    },
    {
     "data": {
      "text/plain": [
       "0.278"
      ]
     },
     "execution_count": 174,
     "metadata": {},
     "output_type": "execute_result"
    }
   ],
   "source": [
    "model = DecisionTreeClassifier(max_depth = 5)\n",
    "model.fit(train_x,train_y)\n",
    "print(model.score(train_x, train_y))\n",
    "model.score(test_x, test_y)"
   ]
  },
  {
   "cell_type": "markdown",
   "metadata": {},
   "source": [
    "### Heuristics Plot"
   ]
  },
  {
   "cell_type": "code",
   "execution_count": 70,
   "metadata": {},
   "outputs": [
    {
     "data": {
      "image/png": "[encoded data removed]",
      "text/plain": [
       "<Figure size 432x288 with 1 Axes>"
      ]
     },
     "metadata": {},
     "output_type": "display_data"
    }
   ],
   "source": [
    "#Plot time, model similarity, modek accuracy\n",
    "plt.xticks(rotation='70')\n",
    "plt.plot(names, model_time, label = 'Model Time to Run (s)')\n",
    "plt.plot(names, model_similarity, label = 'Model Similarity (% test of train)')\n",
    "plt.plot(names, model_accuracy, label = 'Model Accuracy (% test accuracy)')\n",
    "\n",
    "# Generate plot   \n",
    "plt.legend() \n",
    "plt.xlabel('Model Type') \n",
    "plt.ylabel('Time (s), Percentage Accuracy ') \n",
    "plt.title('Model Heuristics')\n",
    "plt.show() "
   ]
  },
  {
   "cell_type": "markdown",
   "metadata": {},
   "source": [
    "### Save Model"
   ]
  },
  {
   "cell_type": "code",
   "execution_count": 120,
   "metadata": {},
   "outputs": [
    {
     "data": {
      "text/plain": [
       "['/Users/yuting/Desktop/MS&E_3/Applied DS/Fall2019-proj3-sec1--proj3-sec1-grp2/output/checkpoint/baseline_model.m']"
      ]
     },
     "execution_count": 120,
     "metadata": {},
     "output_type": "execute_result"
    }
   ],
   "source": [
    "joblib.dump(baseline, checkpoint_wd+\"/baseline_model.m\")"
   ]
  },
  {
   "cell_type": "code",
   "execution_count": 71,
   "metadata": {},
   "outputs": [
    {
     "data": {
      "text/plain": [
       "['/Users/yuting/Desktop/MS&E_3/Applied DS/Fall2019-proj3-sec1--proj3-sec1-grp2/output/checkpoint/improved_model.m']"
      ]
     },
     "execution_count": 71,
     "metadata": {},
     "output_type": "execute_result"
    }
   ],
   "source": [
    "joblib.dump(best_clf, checkpoint_wd+\"/improved_model.m\")"
   ]
  }
 ],
 "metadata": {
  "kernelspec": {
   "display_name": "Python 3",
   "language": "python",
   "name": "python3"
  },
  "language_info": {
   "codemirror_mode": {
    "name": "ipython",
    "version": 3
   },
   "file_extension": ".py",
   "mimetype": "text/x-python",
   "name": "python",
   "nbconvert_exporter": "python",
   "pygments_lexer": "ipython3",
   "version": "3.7.3"
  }
 },
 "nbformat": 4,
 "nbformat_minor": 2
}
