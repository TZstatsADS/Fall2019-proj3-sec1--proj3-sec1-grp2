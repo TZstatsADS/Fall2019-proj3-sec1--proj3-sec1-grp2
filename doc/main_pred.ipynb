{
 "cells": [
  {
   "cell_type": "code",
   "execution_count": 12,
   "metadata": {},
   "outputs": [],
   "source": [
    "import scipy.io as scio\n",
    "import pandas as pd\n",
    "import numpy as np\n",
    "import os\n",
    "from pandas import Series,DataFrame\n",
    "\n",
    "from sklearn.metrics import accuracy_score  \n",
    "\n",
    "import time"
   ]
  },
  {
   "cell_type": "markdown",
   "metadata": {},
   "source": [
    "### Set Path "
   ]
  },
  {
   "cell_type": "code",
   "execution_count": 13,
   "metadata": {},
   "outputs": [
    {
     "data": {
      "text/plain": [
       "'/Users/yuting/Desktop/MS&E_3/Applied DS/Fall2019-proj3-sec1--proj3-sec1-grp2'"
      ]
     },
     "execution_count": 13,
     "metadata": {},
     "output_type": "execute_result"
    }
   ],
   "source": [
    "pwd = os.path.dirname(os.path.dirname(os.getcwd()))\n",
    "checkpoint_wd = os.path.join(pwd, \"output\", \"checkpoint\")\n",
    "pwd"
   ]
  },
  {
   "cell_type": "markdown",
   "metadata": {},
   "source": [
    "### Read Saved Model and Test Data "
   ]
  },
  {
   "cell_type": "code",
   "execution_count": 14,
   "metadata": {},
   "outputs": [],
   "source": [
    "# read model\n",
    "clf = joblib.load(checkpoint_wd+\"/train_model.m\")"
   ]
  },
  {
   "cell_type": "code",
   "execution_count": 15,
   "metadata": {},
   "outputs": [],
   "source": [
    "# read label\n",
    "data_path = os.path.join(pwd, \"data\", \"test_set\")\n",
    "df = pd.read_csv(data_path +\"/label.csv\")\n",
    "labels = df[\"emotion_idx\"].tolist()"
   ]
  },
  {
   "cell_type": "code",
   "execution_count": 16,
   "metadata": {},
   "outputs": [],
   "source": [
    "scaler = MinMaxScaler(feature_range = (0,1))"
   ]
  },
  {
   "cell_type": "code",
   "execution_count": 17,
   "metadata": {},
   "outputs": [],
   "source": [
    "def distance_feature(x): # calcuate distance between points, choose uprigt triangle\n",
    "    #sqrt(dx^2+dy^2)\n",
    "    a = (x[None, :, :] - x[:, None, :])\n",
    "    b = np.linalg.norm(a, axis=2)\n",
    "    return b[np.triu_indices(78, 1)] # feature size (78-1)(78-2) /2 "
   ]
  },
  {
   "cell_type": "code",
   "execution_count": 18,
   "metadata": {},
   "outputs": [],
   "source": [
    "# read point\n",
    "data = list()\n",
    "for i in range(1, 2501):\n",
    "    name = \"../../data/test_set/points/%04d.mat\" % i\n",
    "    dic = scio.loadmat(name)\n",
    "    if \"faceCoordinatesUnwarped\" in dic:\n",
    "        data.append(dic[\"faceCoordinatesUnwarped\"])\n",
    "    else:\n",
    "        data.append(dic[\"faceCoordinates2\"])"
   ]
  },
  {
   "cell_type": "markdown",
   "metadata": {},
   "source": [
    "### Normalization "
   ]
  },
  {
   "cell_type": "code",
   "execution_count": 19,
   "metadata": {},
   "outputs": [],
   "source": [
    "test_x = [distance_feature(d) for d in data]\n",
    "scaler.fit(test_x)\n",
    "test_x = scaler.transform(test_x)"
   ]
  },
  {
   "cell_type": "markdown",
   "metadata": {},
   "source": [
    "### Test Result "
   ]
  },
  {
   "cell_type": "code",
   "execution_count": 20,
   "metadata": {},
   "outputs": [
    {
     "name": "stdout",
     "output_type": "stream",
     "text": [
      "Test Accuracy: 72.48%\n"
     ]
    }
   ],
   "source": [
    "preds = clf.predict(test_x)\n",
    "test_accuracy = accuracy_score(labels, preds) \n",
    "print (\"Test Accuracy: %.2f%%\" % (test_accuracy * 100.0))"
   ]
  }
 ],
 "metadata": {
  "kernelspec": {
   "display_name": "Python 3",
   "language": "python",
   "name": "python3"
  },
  "language_info": {
   "codemirror_mode": {
    "name": "ipython",
    "version": 3
   },
   "file_extension": ".py",
   "mimetype": "text/x-python",
   "name": "python",
   "nbconvert_exporter": "python",
   "pygments_lexer": "ipython3",
   "version": "3.7.3"
  }
 },
 "nbformat": 4,
 "nbformat_minor": 2
}
