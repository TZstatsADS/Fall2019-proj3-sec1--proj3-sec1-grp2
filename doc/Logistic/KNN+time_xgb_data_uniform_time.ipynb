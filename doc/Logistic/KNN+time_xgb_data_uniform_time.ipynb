{
 "cells": [
  {
   "cell_type": "code",
   "execution_count": 1,
   "metadata": {},
   "outputs": [],
   "source": [
    "import scipy.io as scio\n",
    "import pandas as pd\n",
    "import numpy as np\n",
    "import os\n",
    "from pandas import Series,DataFrame\n",
    "from sklearn.linear_model import LogisticRegression\n",
    "from sklearn.ensemble import RandomForestClassifier\n",
    "from sklearn.utils import shuffle\n",
    "import random\n",
    "from sklearn.model_selection import train_test_split\n",
    "from sklearn.ensemble import GradientBoostingClassifier\n",
    "from sklearn.model_selection import GridSearchCV\n",
    "\n",
    "from matplotlib import pyplot as plt\n",
    "from sklearn.datasets import load_breast_cancer\n",
    "from sklearn.metrics import confusion_matrix\n",
    "from sklearn.neighbors import KNeighborsClassifier\n",
    "import seaborn as sns\n",
    "from sklearn.metrics import accuracy_score  \n",
    "from sklearn.decomposition import PCA\n",
    "\n",
    "import time\n",
    "import cProfile\n",
    "\n",
    "sns.set()"
   ]
  },
  {
   "cell_type": "code",
   "execution_count": 2,
   "metadata": {},
   "outputs": [],
   "source": [
    "random.seed(3345)"
   ]
  },
  {
   "cell_type": "code",
   "execution_count": 3,
   "metadata": {},
   "outputs": [],
   "source": [
    "def distance_feature(x): # calcuate distance between points, choose uprigt triangle\n",
    "    #sqrt(dx^2+dy^2)\n",
    "    a = (x[None, :, :] - x[:, None, :])\n",
    "    b = np.linalg.norm(a, axis=2)\n",
    "    return b[np.triu_indices(78, 1)] # feature size (78-1)(78-2) /2 "
   ]
  },
  {
   "cell_type": "code",
   "execution_count": 4,
   "metadata": {},
   "outputs": [],
   "source": [
    "def euc_distance_feature(x): # instead of distance, keep two dimensional distance vector\n",
    "    #(dx,dy)\n",
    "    a = (x[None, :, :] - x[:, None, :])\n",
    "    index = np.triu_indices(78, 1)\n",
    "    b = a[index]\n",
    "    return b.reshape((-1,)) # feature size (78-1)(78-2) /2 * 2"
   ]
  },
  {
   "cell_type": "code",
   "execution_count": 5,
   "metadata": {},
   "outputs": [],
   "source": [
    "df = pd.read_csv(\"../../data/train_set/label.csv\")\n",
    "labels = df[\"emotion_idx\"].tolist()"
   ]
  },
  {
   "cell_type": "code",
   "execution_count": 6,
   "metadata": {},
   "outputs": [],
   "source": [
    "data = list()\n",
    "for i in range(1, 2501):\n",
    "    name = \"../../data/train_set/points/%04d.mat\" % i\n",
    "    dic = scio.loadmat(name)\n",
    "    if \"faceCoordinatesUnwarped\" in dic:\n",
    "        data.append(dic[\"faceCoordinatesUnwarped\"])\n",
    "    else:\n",
    "        data.append(dic[\"faceCoordinates2\"])"
   ]
  },
  {
   "cell_type": "code",
   "execution_count": 7,
   "metadata": {},
   "outputs": [],
   "source": [
    "# shuffle data\n",
    "data, labels = shuffle(data, labels, random_state=0)"
   ]
  },
  {
   "cell_type": "code",
   "execution_count": 8,
   "metadata": {},
   "outputs": [],
   "source": [
    "x_train, x_test, train_y, test_y = train_test_split(data, labels, test_size=0.2)"
   ]
  },
  {
   "cell_type": "markdown",
   "metadata": {},
   "source": [
    "### First we try the distance as features "
   ]
  },
  {
   "cell_type": "code",
   "execution_count": 9,
   "metadata": {},
   "outputs": [],
   "source": [
    "train_x = [distance_feature(d) for d in x_train]\n",
    "test_x = [distance_feature(d) for d in x_test]"
   ]
  },
  {
   "cell_type": "markdown",
   "metadata": {},
   "source": [
    "GBM "
   ]
  },
  {
   "cell_type": "code",
   "execution_count": 10,
   "metadata": {},
   "outputs": [
    {
     "name": "stdout",
     "output_type": "stream",
     "text": [
      "Training Time: 314.94574785232544 seconds\n"
     ]
    }
   ],
   "source": [
    "start = time.time()\n",
    "gbm = GradientBoostingClassifier(learning_rate=0.01,n_estimators=30,random_state=10).fit(train_x, train_y)\n",
    "end = time.time()\n",
    "print(\"Training Time:\",\"%s seconds\"%(end - start))\n",
    "time_gbm = end - start"
   ]
  },
  {
   "cell_type": "code",
   "execution_count": 11,
   "metadata": {},
   "outputs": [
    {
     "name": "stdout",
     "output_type": "stream",
     "text": [
      "Training dataset Accuracy\n",
      "0.6605\n",
      "Testing dataset Accuracy\n",
      "0.398\n"
     ]
    }
   ],
   "source": [
    "print(\"Training dataset Accuracy\")\n",
    "train_accuracy = gbm.score(train_x, train_y) \n",
    "print(train_accuracy)\n",
    "print(\"Testing dataset Accuracy\")\n",
    "test_accuracy = gbm.score(test_x, test_y) \n",
    "print(test_accuracy)\n",
    "acc_diff_gbm = 100*test_accuracy/train_accuracy"
   ]
  },
  {
   "cell_type": "markdown",
   "metadata": {},
   "source": [
    "Logistic Regression"
   ]
  },
  {
   "cell_type": "code",
   "execution_count": 12,
   "metadata": {},
   "outputs": [
    {
     "name": "stdout",
     "output_type": "stream",
     "text": [
      "Training Time: 43.19373893737793 seconds\n"
     ]
    }
   ],
   "source": [
    "start = time.time()\n",
    "clf = LogisticRegression(max_iter=800, penalty = \"l2\", random_state=0, solver='lbfgs', multi_class='multinomial', n_jobs=-1).fit(train_x, train_y)\n",
    "end = time.time()\n",
    "print(\"Training Time:\",\"%s seconds\"%(end - start))\n",
    "time_logreg = end - start"
   ]
  },
  {
   "cell_type": "code",
   "execution_count": 13,
   "metadata": {},
   "outputs": [
    {
     "name": "stdout",
     "output_type": "stream",
     "text": [
      "Training dataset Accuracy\n",
      "0.821\n",
      "Testing dataset Accuracy\n",
      "0.536\n"
     ]
    }
   ],
   "source": [
    "print(\"Training dataset Accuracy\")\n",
    "train_accuracy = clf.score(train_x, train_y) \n",
    "print(train_accuracy)\n",
    "print(\"Testing dataset Accuracy\")\n",
    "test_accuracy = clf.score(test_x, test_y) \n",
    "print(test_accuracy)\n",
    "acc_diff_logreg = 100*test_accuracy/train_accuracy"
   ]
  },
  {
   "cell_type": "code",
   "execution_count": 14,
   "metadata": {},
   "outputs": [],
   "source": [
    "#normalizing\n",
    "from sklearn.preprocessing import MinMaxScaler\n",
    "scaler = MinMaxScaler(feature_range = (0,1))"
   ]
  },
  {
   "cell_type": "code",
   "execution_count": 15,
   "metadata": {},
   "outputs": [],
   "source": [
    "scaler.fit(train_x)\n",
    "train_x = scaler.transform(train_x)\n",
    "test_x = scaler.transform(test_x)"
   ]
  },
  {
   "cell_type": "code",
   "execution_count": 16,
   "metadata": {},
   "outputs": [
    {
     "name": "stdout",
     "output_type": "stream",
     "text": [
      "Training Time: 42.400681018829346 seconds\n"
     ]
    }
   ],
   "source": [
    "start = time.time()\n",
    "clf = LogisticRegression(max_iter=800, penalty = \"l2\", random_state=0, solver='lbfgs', multi_class='multinomial', n_jobs=-1).fit(train_x, train_y)\n",
    "end = time.time()\n",
    "print(\"Training Time:\",\"%s seconds\"%(end - start))\n",
    "time_logreg_norm = end - start"
   ]
  },
  {
   "cell_type": "code",
   "execution_count": 17,
   "metadata": {},
   "outputs": [
    {
     "name": "stdout",
     "output_type": "stream",
     "text": [
      "Training dataset Accuracy\n",
      "0.809\n",
      "Testing dataset Accuracy\n",
      "0.564\n"
     ]
    }
   ],
   "source": [
    "print(\"Training dataset Accuracy\")\n",
    "train_accuracy = clf.score(train_x, train_y) \n",
    "print(train_accuracy)\n",
    "print(\"Testing dataset Accuracy\")\n",
    "test_accuracy = clf.score(test_x, test_y) \n",
    "print(test_accuracy)\n",
    "acc_diff_logreg_norm = 100*test_accuracy/train_accuracy"
   ]
  },
  {
   "cell_type": "markdown",
   "metadata": {},
   "source": [
    "Random Forest"
   ]
  },
  {
   "cell_type": "code",
   "execution_count": 18,
   "metadata": {},
   "outputs": [],
   "source": [
    "forest = RandomForestClassifier(n_estimators=500, oob_score = True, \n",
    "                                max_depth=12, max_leaf_nodes=15,\n",
    "                                max_features=\"auto\", n_jobs=-1)"
   ]
  },
  {
   "cell_type": "code",
   "execution_count": 19,
   "metadata": {},
   "outputs": [
    {
     "name": "stdout",
     "output_type": "stream",
     "text": [
      "Training Time: 9.02146315574646 seconds\n",
      "Training dataset Accuracy\n",
      "0.467\n",
      "Testing dataset Accuracy\n",
      "0.37\n"
     ]
    }
   ],
   "source": [
    "start = time.time()\n",
    "forest.fit(train_x, train_y)\n",
    "end = time.time()\n",
    "print(\"Training Time:\",\"%s seconds\"%(end - start))\n",
    "time_forest = end - start\n",
    "\n",
    "print(\"Training dataset Accuracy\")\n",
    "train_accuracy = forest.score(train_x, train_y) \n",
    "print(train_accuracy)\n",
    "print(\"Testing dataset Accuracy\")\n",
    "test_accuracy = forest.score(test_x, test_y) \n",
    "print(test_accuracy)\n",
    "acc_diff_forest = 100*test_accuracy/train_accuracy"
   ]
  },
  {
   "cell_type": "markdown",
   "metadata": {},
   "source": [
    "### Second we try Euclidian distance as features "
   ]
  },
  {
   "cell_type": "code",
   "execution_count": 20,
   "metadata": {},
   "outputs": [],
   "source": [
    "train_x = [euc_distance_feature(d) for d in x_train]\n",
    "test_x = [euc_distance_feature(d) for d in x_test]"
   ]
  },
  {
   "cell_type": "code",
   "execution_count": 21,
   "metadata": {},
   "outputs": [
    {
     "name": "stdout",
     "output_type": "stream",
     "text": [
      "Training Time: 88.69498324394226 seconds\n"
     ]
    }
   ],
   "source": [
    "start = time.time()\n",
    "clf = LogisticRegression(max_iter=800, random_state=0,  penalty = \"l2\", solver='lbfgs', multi_class='multinomial', n_jobs=-1).fit(train_x, train_y)\n",
    "end = time.time()\n",
    "print(\"Training Time:\",\"%s seconds\"%(end - start))\n",
    "\n",
    "time_logreg_euc = end - start"
   ]
  },
  {
   "cell_type": "code",
   "execution_count": 22,
   "metadata": {},
   "outputs": [
    {
     "name": "stdout",
     "output_type": "stream",
     "text": [
      "Training dataset Accuracy\n",
      "0.865\n",
      "Testing dataset Accuracy\n",
      "0.526\n"
     ]
    }
   ],
   "source": [
    "print(\"Training dataset Accuracy\")\n",
    "train_accuracy = clf.score(train_x, train_y) \n",
    "print(train_accuracy)\n",
    "print(\"Testing dataset Accuracy\")\n",
    "test_accuracy = clf.score(test_x, test_y) \n",
    "print(test_accuracy)\n",
    "acc_diff_logreg_euc = 100*test_accuracy/train_accuracy"
   ]
  },
  {
   "cell_type": "code",
   "execution_count": 23,
   "metadata": {},
   "outputs": [],
   "source": [
    "#normalizing\n",
    "from sklearn.preprocessing import MinMaxScaler\n",
    "scaler = MinMaxScaler(feature_range = (0,1))\n",
    "scaler.fit(train_x)\n",
    "train_x = scaler.transform(train_x)\n",
    "test_x = scaler.transform(test_x)"
   ]
  },
  {
   "cell_type": "code",
   "execution_count": 24,
   "metadata": {},
   "outputs": [
    {
     "name": "stdout",
     "output_type": "stream",
     "text": [
      "Training Time: 93.26150012016296 seconds\n"
     ]
    }
   ],
   "source": [
    "start = time.time()\n",
    "clf = LogisticRegression(max_iter=800, penalty = \"l2\", random_state=0, solver='lbfgs', multi_class='multinomial', n_jobs=-1).fit(train_x, train_y)\n",
    "end = time.time()\n",
    "print(\"Training Time:\",\"%s seconds\"%(end - start))\n",
    "\n",
    "time_logreg_norm_euc = end - start"
   ]
  },
  {
   "cell_type": "code",
   "execution_count": 25,
   "metadata": {},
   "outputs": [
    {
     "name": "stdout",
     "output_type": "stream",
     "text": [
      "Training dataset Accuracy\n",
      "0.86\n",
      "Testing dataset Accuracy\n",
      "0.548\n"
     ]
    }
   ],
   "source": [
    "print(\"Training dataset Accuracy\")\n",
    "train_accuracy = clf.score(train_x, train_y) \n",
    "print(train_accuracy)\n",
    "print(\"Testing dataset Accuracy\")\n",
    "test_accuracy = clf.score(test_x, test_y) \n",
    "print(test_accuracy)\n",
    "acc_diff_logreg_norm_euc = 100*test_accuracy/train_accuracy"
   ]
  },
  {
   "cell_type": "markdown",
   "metadata": {},
   "source": [
    "xgboost"
   ]
  },
  {
   "cell_type": "code",
   "execution_count": 26,
   "metadata": {},
   "outputs": [],
   "source": [
    "import xgboost as xgb"
   ]
  },
  {
   "cell_type": "code",
   "execution_count": 27,
   "metadata": {},
   "outputs": [],
   "source": [
    "dtrain = xgb.DMatrix(train_x, label=train_y)\n",
    "dtest = xgb.DMatrix(test_x, label=test_y)"
   ]
  },
  {
   "cell_type": "code",
   "execution_count": 28,
   "metadata": {},
   "outputs": [
    {
     "name": "stdout",
     "output_type": "stream",
     "text": [
      "Training Time: 40.138465881347656 seconds\n",
      "Train Accuracy: 52.05%\n"
     ]
    }
   ],
   "source": [
    "param = {'booster':'gbtree',\n",
    "'objective': 'multi:softmax', \n",
    "'num_class':23,\n",
    "'gamma':0.05,  \n",
    "'max_depth':5, \n",
    "'silent':1 ,\n",
    "'subsample': 0.4,\n",
    "'eta': 0.001}\n",
    "num_round=2\n",
    "start = time.time()\n",
    "bst = xgb.train(param, dtrain, num_round)\n",
    "end = time.time()\n",
    "print(\"Training Time:\",\"%s seconds\"%(end - start))\n",
    "time_xgb = end - start\n",
    "train_preds = bst.predict(dtrain)\n",
    "train_accuracy = accuracy_score(train_y, train_preds) #use sklearn to compare accuracy\n",
    "print (\"Train Accuracy: %.2f%%\" % (train_accuracy * 100.0))"
   ]
  },
  {
   "cell_type": "code",
   "execution_count": 29,
   "metadata": {},
   "outputs": [
    {
     "name": "stdout",
     "output_type": "stream",
     "text": [
      "Test Accuracy: 30.40%\n"
     ]
    }
   ],
   "source": [
    "test_preds = bst.predict(dtest)\n",
    "test_accuracy = accuracy_score(test_y, test_preds) #use sklearn to compare accuracy\n",
    "print (\"Test Accuracy: %.2f%%\" % (test_accuracy * 100.0))\n",
    "acc_diff_xgb = 100*test_accuracy/train_accuracy"
   ]
  },
  {
   "cell_type": "markdown",
   "metadata": {},
   "source": [
    "### KNN"
   ]
  },
  {
   "cell_type": "code",
   "execution_count": 30,
   "metadata": {},
   "outputs": [],
   "source": [
    "train_x = [euc_distance_feature(d) for d in x_train]\n",
    "test_x = [euc_distance_feature(d) for d in x_test]"
   ]
  },
  {
   "cell_type": "code",
   "execution_count": 31,
   "metadata": {},
   "outputs": [
    {
     "data": {
      "image/png": "[encoded data removed]",
      "text/plain": [
       "<Figure size 432x288 with 1 Axes>"
      ]
     },
     "metadata": {
      "needs_background": "light"
     },
     "output_type": "display_data"
    }
   ],
   "source": [
    "neighbors = np.arange(5, 50, 10) \n",
    "train_accuracy = np.empty(len(neighbors)) \n",
    "test_accuracy = np.empty(len(neighbors)) \n",
    "  \n",
    "# Loop over K values \n",
    "for i, k in enumerate(neighbors): \n",
    "    knn = KNeighborsClassifier(n_neighbors=k) \n",
    "    knn.fit(train_x, train_y) \n",
    "      \n",
    "    # Compute training and test data accuracy \n",
    "    train_accuracy[i] = knn.score(train_x, train_y) \n",
    "    test_accuracy[i] = knn.score(test_x, test_y) \n",
    "  \n",
    "# Generate plot \n",
    "plt.plot(neighbors, test_accuracy, label = 'Testing dataset Accuracy') \n",
    "plt.plot(neighbors, train_accuracy, label = 'Training dataset Accuracy') \n",
    "  \n",
    "plt.legend() \n",
    "plt.xlabel('n_neighbors') \n",
    "plt.ylabel('Accuracy') \n",
    "plt.show() "
   ]
  },
  {
   "cell_type": "code",
   "execution_count": 32,
   "metadata": {},
   "outputs": [
    {
     "name": "stdout",
     "output_type": "stream",
     "text": [
      "Training Time: 0.3085057735443115 seconds\n"
     ]
    }
   ],
   "source": [
    "start = time.time()\n",
    "knn = KNeighborsClassifier(n_neighbors=35)\n",
    "knn.fit(train_x, train_y) \n",
    "end = time.time()\n",
    "print(\"Training Time:\",\"%s seconds\"%(end - start))\n",
    "time_KN_euc = end - start"
   ]
  },
  {
   "cell_type": "code",
   "execution_count": 33,
   "metadata": {},
   "outputs": [
    {
     "name": "stdout",
     "output_type": "stream",
     "text": [
      "Training dataset Accuracy\n",
      "0.342\n",
      "Testing dataset Accuracy\n",
      "0.296\n"
     ]
    }
   ],
   "source": [
    "print(\"Training dataset Accuracy\")\n",
    "train_accuracy = knn.score(train_x, train_y) \n",
    "print(train_accuracy)\n",
    "print(\"Testing dataset Accuracy\")\n",
    "test_accuracy = knn.score(test_x, test_y) \n",
    "print(test_accuracy)\n",
    "acc_diff_KN_euc = 100*test_accuracy/train_accuracy"
   ]
  },
  {
   "cell_type": "code",
   "execution_count": 34,
   "metadata": {},
   "outputs": [
    {
     "data": {
      "image/png": "[encoded data removed]",
      "text/plain": [
       "<Figure size 432x288 with 1 Axes>"
      ]
     },
     "metadata": {
      "needs_background": "light"
     },
     "output_type": "display_data"
    }
   ],
   "source": [
    "#Fitting the PCA algorithm with our Data\n",
    "pca = PCA().fit(train_x)\n",
    "end = time.time()\n",
    "\n",
    "#Plotting the Cumulative Summation of the Explained Variance\n",
    "plt.figure()\n",
    "plt.plot(np.cumsum(pca.explained_variance_ratio_))\n",
    "plt.xlabel('Number of Components')\n",
    "plt.ylabel('Variance (%)') #for each component\n",
    "plt.title('Pulsar Dataset Explained Variance')\n",
    "plt.show()"
   ]
  },
  {
   "cell_type": "code",
   "execution_count": 35,
   "metadata": {},
   "outputs": [],
   "source": [
    "start = time.time()\n",
    "\n",
    "pca = PCA(n_components=100).fit(train_x)\n",
    "train_x_reduce = pca.transform(train_x)"
   ]
  },
  {
   "cell_type": "code",
   "execution_count": 36,
   "metadata": {},
   "outputs": [
    {
     "name": "stdout",
     "output_type": "stream",
     "text": [
      "Training Time: 1.1566319465637207 seconds\n"
     ]
    }
   ],
   "source": [
    "knn = KNeighborsClassifier(n_neighbors=35)\n",
    "knn.fit(train_x_reduce, train_y) \n",
    "\n",
    "end = time.time()\n",
    "print(\"Training Time:\",\"%s seconds\"%(end - start))\n",
    "time_KN_pca = end - start"
   ]
  },
  {
   "cell_type": "code",
   "execution_count": 37,
   "metadata": {},
   "outputs": [
    {
     "name": "stdout",
     "output_type": "stream",
     "text": [
      "Training dataset Accuracy\n",
      "0.34\n",
      "Testing dataset Accuracy\n",
      "0.302\n"
     ]
    }
   ],
   "source": [
    "print(\"Training dataset Accuracy\")\n",
    "train_accuracy = knn.score(train_x_reduce, train_y) \n",
    "print(train_accuracy)\n",
    "print(\"Testing dataset Accuracy\")\n",
    "test_accuracy = knn.score(pca.transform(test_x), test_y) \n",
    "print(test_accuracy)\n",
    "acc_diff_KN_pca = 100*test_accuracy/train_accuracy"
   ]
  },
  {
   "cell_type": "code",
   "execution_count": 39,
   "metadata": {},
   "outputs": [
    {
     "data": {
      "image/png": "[encoded data removed]",
      "text/plain": [
       "<Figure size 432x288 with 1 Axes>"
      ]
     },
     "metadata": {
      "needs_background": "light"
     },
     "output_type": "display_data"
    }
   ],
   "source": [
    "#Time Plot\n",
    "\n",
    "model_time = ([time_gbm, time_logreg_euc, time_logreg_norm_euc, time_logreg, time_xgb, time_logreg_norm, time_forest, time_KN_euc, time_KN_pca])\n",
    "model_accuracy = ([acc_diff_gbm, acc_diff_logreg_euc, acc_diff_logreg_norm_euc, acc_diff_logreg, acc_diff_logreg_norm, acc_diff_xgb, acc_diff_forest, acc_diff_KN_euc, acc_diff_KN_pca])\n",
    "names = ([\"GBM\", \"Log Regr Euc\", \"Norm Log Reg Euc\", \"Log Regr\", \"xgboost\", \"Normalized Log Regr\", \"Random Forest\", \"KNN Euc\", \"KNN PCA\"])\n",
    "plt.xticks(rotation='70')\n",
    "plt.plot(names, model_time, label = 'Model Time to Run (s)')\n",
    "plt.plot(names, model_accuracy, label = 'Model Accuracy (%)')\n",
    "\n",
    "# Generate plot   \n",
    "plt.legend() \n",
    "plt.xlabel('Model Type') \n",
    "plt.ylabel('Time (s), Percentage Accuracy') \n",
    "plt.title('Model Heuristics')\n",
    "plt.show() "
   ]
  }
 ],
 "metadata": {
  "kernelspec": {
   "display_name": "Python 3",
   "language": "python",
   "name": "python3"
  },
  "language_info": {
   "codemirror_mode": {
    "name": "ipython",
    "version": 3
   },
   "file_extension": ".py",
   "mimetype": "text/x-python",
   "name": "python",
   "nbconvert_exporter": "python",
   "pygments_lexer": "ipython3",
   "version": "3.7.4"
  }
 },
 "nbformat": 4,
 "nbformat_minor": 2
}
