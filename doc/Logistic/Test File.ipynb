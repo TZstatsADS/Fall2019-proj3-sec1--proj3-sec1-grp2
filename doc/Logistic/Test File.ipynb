{
 "cells": [
  {
   "cell_type": "code",
   "execution_count": null,
   "metadata": {},
   "outputs": [],
   "source": [
    "import scipy.io as scio\n",
    "import pandas as pd\n",
    "import numpy as np\n",
    "import os\n",
    "from pandas import Series,DataFrame\n",
    "from sklearn.linear_model import LogisticRegression\n",
    "from sklearn.ensemble import RandomForestClassifier\n",
    "from sklearn.utils import shuffle\n",
    "import random\n",
    "from sklearn.model_selection import train_test_split\n",
    "from sklearn.ensemble import GradientBoostingClassifier\n",
    "from sklearn.model_selection import GridSearchCV\n",
    "\n",
    "from matplotlib import pyplot as plt\n",
    "from sklearn.datasets import load_breast_cancer\n",
    "from sklearn.metrics import confusion_matrix\n",
    "from sklearn.neighbors import KNeighborsClassifier\n",
    "import seaborn as sns\n",
    "from sklearn.metrics import accuracy_score  \n",
    "from sklearn.decomposition import PCA\n",
    "\n",
    "import time\n",
    "import cProfile\n",
    "\n",
    "sns.set()"
   ]
  },
  {
   "cell_type": "code",
   "execution_count": null,
   "metadata": {},
   "outputs": [],
   "source": [
    "random.seed(3345)"
   ]
  },
  {
   "cell_type": "code",
   "execution_count": null,
   "metadata": {},
   "outputs": [],
   "source": [
    "def distance_feature(x): # calcuate distance between points, choose upright triangle\n",
    "    #sqrt(dx^2+dy^2)\n",
    "    a = (x[None, :, :] - x[:, None, :])\n",
    "    b = np.linalg.norm(a, axis=2)\n",
    "    return b[np.triu_indices(78, 1)] # feature size (78-1)(78-2) /2 "
   ]
  },
  {
   "cell_type": "code",
   "execution_count": null,
   "metadata": {},
   "outputs": [],
   "source": [
    "def euc_distance_feature(x): # instead of distance, keep two dimensional distance vector\n",
    "    #(dx,dy)\n",
    "    a = (x[None, :, :] - x[:, None, :])\n",
    "    index = np.triu_indices(78, 1)\n",
    "    b = a[index]\n",
    "    return b.reshape((-1,)) # feature size (78-1)(78-2) /2 * 2"
   ]
  },
  {
   "cell_type": "code",
   "execution_count": null,
   "metadata": {},
   "outputs": [],
   "source": [
    "#### CHANGE TO PROPER FILE HERE\n",
    "df = pd.read_csv(FILENAME)##original was \"../../data/train_set/label.csv\"\n",
    "labels = df[\"emotion_idx\"].tolist()"
   ]
  },
  {
   "cell_type": "code",
   "execution_count": null,
   "metadata": {},
   "outputs": [],
   "source": [
    "data = list()\n",
    "for i in range(1, len()):\n",
    "    name = \"../../data/train_set/points/%04d.mat\" % i\n",
    "    dic = scio.loadmat(name)\n",
    "    if \"faceCoordinatesUnwarped\" in dic:\n",
    "        data.append(dic[\"faceCoordinatesUnwarped\"])\n",
    "    else:\n",
    "        data.append(dic[\"faceCoordinates2\"])"
   ]
  },
  {
   "cell_type": "code",
   "execution_count": null,
   "metadata": {},
   "outputs": [],
   "source": [
    "####model slot"
   ]
  }
 ],
 "metadata": {
  "kernelspec": {
   "display_name": "Python 3",
   "language": "python",
   "name": "python3"
  },
  "language_info": {
   "codemirror_mode": {
    "name": "ipython",
    "version": 3
   },
   "file_extension": ".py",
   "mimetype": "text/x-python",
   "name": "python",
   "nbconvert_exporter": "python",
   "pygments_lexer": "ipython3",
   "version": "3.7.4"
  }
 },
 "nbformat": 4,
 "nbformat_minor": 2
}
